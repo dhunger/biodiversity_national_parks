{
 "cells": [
  {
   "cell_type": "code",
   "execution_count": 91,
   "metadata": {},
   "outputs": [],
   "source": [
    "#Import necessary libraries\n",
    "import pandas as pd\n",
    "from matplotlib import pyplot as plt\n",
    "import seaborn as sns\n",
    "import numpy as np\n",
    "from scipy.stats import chi2_contingency"
   ]
  },
  {
   "cell_type": "code",
   "execution_count": 92,
   "metadata": {},
   "outputs": [
    {
     "data": {
      "text/html": [
       "<div>\n",
       "<style scoped>\n",
       "    .dataframe tbody tr th:only-of-type {\n",
       "        vertical-align: middle;\n",
       "    }\n",
       "\n",
       "    .dataframe tbody tr th {\n",
       "        vertical-align: top;\n",
       "    }\n",
       "\n",
       "    .dataframe thead th {\n",
       "        text-align: right;\n",
       "    }\n",
       "</style>\n",
       "<table border=\"1\" class=\"dataframe\">\n",
       "  <thead>\n",
       "    <tr style=\"text-align: right;\">\n",
       "      <th></th>\n",
       "      <th>scientific_name</th>\n",
       "      <th>park_name</th>\n",
       "      <th>observations</th>\n",
       "    </tr>\n",
       "  </thead>\n",
       "  <tbody>\n",
       "    <tr>\n",
       "      <th>0</th>\n",
       "      <td>Vicia benghalensis</td>\n",
       "      <td>Great Smoky Mountains National Park</td>\n",
       "      <td>68</td>\n",
       "    </tr>\n",
       "    <tr>\n",
       "      <th>1</th>\n",
       "      <td>Neovison vison</td>\n",
       "      <td>Great Smoky Mountains National Park</td>\n",
       "      <td>77</td>\n",
       "    </tr>\n",
       "    <tr>\n",
       "      <th>2</th>\n",
       "      <td>Prunus subcordata</td>\n",
       "      <td>Yosemite National Park</td>\n",
       "      <td>138</td>\n",
       "    </tr>\n",
       "    <tr>\n",
       "      <th>3</th>\n",
       "      <td>Abutilon theophrasti</td>\n",
       "      <td>Bryce National Park</td>\n",
       "      <td>84</td>\n",
       "    </tr>\n",
       "    <tr>\n",
       "      <th>4</th>\n",
       "      <td>Githopsis specularioides</td>\n",
       "      <td>Great Smoky Mountains National Park</td>\n",
       "      <td>85</td>\n",
       "    </tr>\n",
       "  </tbody>\n",
       "</table>\n",
       "</div>"
      ],
      "text/plain": [
       "            scientific_name                            park_name  observations\n",
       "0        Vicia benghalensis  Great Smoky Mountains National Park            68\n",
       "1            Neovison vison  Great Smoky Mountains National Park            77\n",
       "2         Prunus subcordata               Yosemite National Park           138\n",
       "3      Abutilon theophrasti                  Bryce National Park            84\n",
       "4  Githopsis specularioides  Great Smoky Mountains National Park            85"
      ]
     },
     "metadata": {},
     "output_type": "display_data"
    },
    {
     "name": "stdout",
     "output_type": "stream",
     "text": [
      "<class 'pandas.core.frame.DataFrame'>\n",
      "RangeIndex: 23296 entries, 0 to 23295\n",
      "Data columns (total 3 columns):\n",
      " #   Column           Non-Null Count  Dtype \n",
      "---  ------           --------------  ----- \n",
      " 0   scientific_name  23296 non-null  object\n",
      " 1   park_name        23296 non-null  object\n",
      " 2   observations     23296 non-null  int64 \n",
      "dtypes: int64(1), object(2)\n",
      "memory usage: 546.1+ KB\n",
      "None\n"
     ]
    },
    {
     "data": {
      "text/html": [
       "<div>\n",
       "<style scoped>\n",
       "    .dataframe tbody tr th:only-of-type {\n",
       "        vertical-align: middle;\n",
       "    }\n",
       "\n",
       "    .dataframe tbody tr th {\n",
       "        vertical-align: top;\n",
       "    }\n",
       "\n",
       "    .dataframe thead th {\n",
       "        text-align: right;\n",
       "    }\n",
       "</style>\n",
       "<table border=\"1\" class=\"dataframe\">\n",
       "  <thead>\n",
       "    <tr style=\"text-align: right;\">\n",
       "      <th></th>\n",
       "      <th>category</th>\n",
       "      <th>scientific_name</th>\n",
       "      <th>common_names</th>\n",
       "      <th>conservation_status</th>\n",
       "    </tr>\n",
       "  </thead>\n",
       "  <tbody>\n",
       "    <tr>\n",
       "      <th>0</th>\n",
       "      <td>Mammal</td>\n",
       "      <td>Clethrionomys gapperi gapperi</td>\n",
       "      <td>Gapper's Red-Backed Vole</td>\n",
       "      <td>NaN</td>\n",
       "    </tr>\n",
       "    <tr>\n",
       "      <th>1</th>\n",
       "      <td>Mammal</td>\n",
       "      <td>Bos bison</td>\n",
       "      <td>American Bison, Bison</td>\n",
       "      <td>NaN</td>\n",
       "    </tr>\n",
       "    <tr>\n",
       "      <th>2</th>\n",
       "      <td>Mammal</td>\n",
       "      <td>Bos taurus</td>\n",
       "      <td>Aurochs, Aurochs, Domestic Cattle (Feral), Dom...</td>\n",
       "      <td>NaN</td>\n",
       "    </tr>\n",
       "    <tr>\n",
       "      <th>3</th>\n",
       "      <td>Mammal</td>\n",
       "      <td>Ovis aries</td>\n",
       "      <td>Domestic Sheep, Mouflon, Red Sheep, Sheep (Feral)</td>\n",
       "      <td>NaN</td>\n",
       "    </tr>\n",
       "    <tr>\n",
       "      <th>4</th>\n",
       "      <td>Mammal</td>\n",
       "      <td>Cervus elaphus</td>\n",
       "      <td>Wapiti Or Elk</td>\n",
       "      <td>NaN</td>\n",
       "    </tr>\n",
       "  </tbody>\n",
       "</table>\n",
       "</div>"
      ],
      "text/plain": [
       "  category                scientific_name  \\\n",
       "0   Mammal  Clethrionomys gapperi gapperi   \n",
       "1   Mammal                      Bos bison   \n",
       "2   Mammal                     Bos taurus   \n",
       "3   Mammal                     Ovis aries   \n",
       "4   Mammal                 Cervus elaphus   \n",
       "\n",
       "                                        common_names conservation_status  \n",
       "0                           Gapper's Red-Backed Vole                 NaN  \n",
       "1                              American Bison, Bison                 NaN  \n",
       "2  Aurochs, Aurochs, Domestic Cattle (Feral), Dom...                 NaN  \n",
       "3  Domestic Sheep, Mouflon, Red Sheep, Sheep (Feral)                 NaN  \n",
       "4                                      Wapiti Or Elk                 NaN  "
      ]
     },
     "metadata": {},
     "output_type": "display_data"
    },
    {
     "name": "stdout",
     "output_type": "stream",
     "text": [
      "<class 'pandas.core.frame.DataFrame'>\n",
      "RangeIndex: 5824 entries, 0 to 5823\n",
      "Data columns (total 4 columns):\n",
      " #   Column               Non-Null Count  Dtype \n",
      "---  ------               --------------  ----- \n",
      " 0   category             5824 non-null   object\n",
      " 1   scientific_name      5824 non-null   object\n",
      " 2   common_names         5824 non-null   object\n",
      " 3   conservation_status  191 non-null    object\n",
      "dtypes: object(4)\n",
      "memory usage: 182.1+ KB\n"
     ]
    },
    {
     "data": {
      "text/plain": [
       "None"
      ]
     },
     "metadata": {},
     "output_type": "display_data"
    }
   ],
   "source": [
    "#Load and inspect csv files\n",
    "observations_df = pd.read_csv('observations.csv')\n",
    "species_df = pd.read_csv('species_info.csv')\n",
    "display(observations_df.head())\n",
    "print(observations_df.info())\n",
    "display(species_df.head())\n",
    "display(species_df.info())"
   ]
  },
  {
   "cell_type": "code",
   "execution_count": 95,
   "metadata": {},
   "outputs": [
    {
     "name": "stdout",
     "output_type": "stream",
     "text": [
      "There are 5541 unique species in our observations.\n",
      "There are 4 unique parks in our observations.\n",
      "['Great Smoky Mountains National Park' 'Yosemite National Park'\n",
      " 'Bryce National Park' 'Yellowstone National Park']\n",
      "Yellowstone National Park              5824\n",
      "Yosemite National Park                 5824\n",
      "Great Smoky Mountains National Park    5824\n",
      "Bryce National Park                    5824\n",
      "Name: park_name, dtype: int64\n",
      "['Mammal' 'Bird' 'Reptile' 'Amphibian' 'Fish' 'Vascular Plant'\n",
      " 'Nonvascular Plant']\n",
      "[nan 'Species of Concern' 'Endangered' 'Threatened' 'In Recovery']\n"
     ]
    }
   ],
   "source": [
    "#How many species are in the observations dataset? \n",
    "species_list = observations_df['scientific_name'].unique()\n",
    "print('There are '+str(len(species_list))+' unique species in our observations.')\n",
    "#How many parks are the observations from?\n",
    "parks_list = observations_df['park_name'].unique()\n",
    "print('There are '+str(len(parks_list))+' unique parks in our observations.')\n",
    "print(parks_list)\n",
    "#How many observations are from each park?\n",
    "park_counts = observations_df['park_name'].value_counts()\n",
    "print(park_counts)\n",
    "#What categories do the species of the species dataset fall into?\n",
    "categories = species_df['category'].unique()\n",
    "print(categories)\n",
    "#How many conservation statuses are there?\n",
    "statuses = species_df['conservation_status'].unique()\n",
    "print(statuses)\n"
   ]
  },
  {
   "cell_type": "code",
   "execution_count": 96,
   "metadata": {},
   "outputs": [
    {
     "name": "stdout",
     "output_type": "stream",
     "text": [
      "Not Specified         5633\n",
      "Species of Concern     161\n",
      "Endangered              16\n",
      "Threatened              10\n",
      "In Recovery              4\n",
      "Name: conservation_status, dtype: int64\n"
     ]
    },
    {
     "data": {
      "image/png": "[encoded data removed]",
      "text/plain": [
       "<Figure size 432x288 with 1 Axes>"
      ]
     },
     "metadata": {},
     "output_type": "display_data"
    },
    {
     "name": "stdout",
     "output_type": "stream",
     "text": [
      "Other Percentages (Not Shown): \n",
      " Endangered: 0.27%\n",
      " Threatened: 0.17%\n",
      " In Recovery: 0.07%\n"
     ]
    }
   ],
   "source": [
    "#Replace NaN values with something less ugly\n",
    "species_df['conservation_status'] = species_df['conservation_status'].fillna('Not Specified')\n",
    "statuses = species_df['conservation_status'].unique()\n",
    "#Count the species falling into each status\n",
    "species_counts = species_df['conservation_status'].value_counts()\n",
    "print(species_counts)\n",
    "#Create a pie chart of conservation statuses (Endangered, Threatened, and In Recovery condensed into \"Other\" for readability)\n",
    "pie_labels = ['Not Specified', 'Species of Concern', 'Other']\n",
    "other_num = len(species_df)-(species_counts[0] + species_counts[1])\n",
    "pie_list = [species_counts[0], species_counts[1], other_num]\n",
    "plt.pie(pie_list, autopct='%0.2f%%', pctdistance=1.2)\n",
    "plt.legend(pie_labels)\n",
    "plt.title('Conservation Statuses')\n",
    "plt.axis('equal')\n",
    "plt.show()\n",
    "print('Other Percentages (Not Shown): \\n Endangered: '+str(round(species_counts[2]*100/len(species_df), 2))+'%\\n Threatened: '+str(round(species_counts[3]*100/len(species_df), 2))+'%\\n In Recovery: '+str(round(species_counts[4]*100/len(species_df), 2))+'%')"
   ]
  },
  {
   "cell_type": "code",
   "execution_count": 97,
   "metadata": {},
   "outputs": [
    {
     "name": "stdout",
     "output_type": "stream",
     "text": [
      "Vascular Plant       4470\n",
      "Bird                  521\n",
      "Nonvascular Plant     333\n",
      "Mammal                214\n",
      "Fish                  127\n",
      "Amphibian              80\n",
      "Reptile                79\n",
      "Name: category, dtype: int64\n"
     ]
    },
    {
     "data": {
      "image/png": "[encoded data removed]",
      "text/plain": [
       "<Figure size 432x288 with 1 Axes>"
      ]
     },
     "metadata": {
      "needs_background": "light"
     },
     "output_type": "display_data"
    }
   ],
   "source": [
    "#Create a bar chart of species observed by category\n",
    "category_counts = species_df['category'].value_counts()\n",
    "print(category_counts)\n",
    "bar_labels = ['Vasc Plant', 'Bird', 'NonV Plant', 'Mammal', 'Fish', 'Amphibian', 'Reptile'] #Labels abbreviated for readability\n",
    "plt.bar(range(len(category_counts)), category_counts, tick_label=bar_labels)\n",
    "plt.xticks(rotation=30)\n",
    "plt.title('Species Observed by Category')\n",
    "plt.xlabel('Category')\n",
    "plt.ylabel('Frequency')\n",
    "plt.show()"
   ]
  },
  {
   "cell_type": "code",
   "execution_count": 99,
   "metadata": {},
   "outputs": [
    {
     "data": {
      "text/html": [
       "<div>\n",
       "<style scoped>\n",
       "    .dataframe tbody tr th:only-of-type {\n",
       "        vertical-align: middle;\n",
       "    }\n",
       "\n",
       "    .dataframe tbody tr th {\n",
       "        vertical-align: top;\n",
       "    }\n",
       "\n",
       "    .dataframe thead th {\n",
       "        text-align: right;\n",
       "    }\n",
       "</style>\n",
       "<table border=\"1\" class=\"dataframe\">\n",
       "  <thead>\n",
       "    <tr style=\"text-align: right;\">\n",
       "      <th>conservation_status</th>\n",
       "      <th>Endangered</th>\n",
       "      <th>In Recovery</th>\n",
       "      <th>Not Specified</th>\n",
       "      <th>Species of Concern</th>\n",
       "      <th>Threatened</th>\n",
       "    </tr>\n",
       "    <tr>\n",
       "      <th>category</th>\n",
       "      <th></th>\n",
       "      <th></th>\n",
       "      <th></th>\n",
       "      <th></th>\n",
       "      <th></th>\n",
       "    </tr>\n",
       "  </thead>\n",
       "  <tbody>\n",
       "    <tr>\n",
       "      <th>Amphibian</th>\n",
       "      <td>1</td>\n",
       "      <td>0</td>\n",
       "      <td>73</td>\n",
       "      <td>4</td>\n",
       "      <td>2</td>\n",
       "    </tr>\n",
       "    <tr>\n",
       "      <th>Bird</th>\n",
       "      <td>4</td>\n",
       "      <td>3</td>\n",
       "      <td>442</td>\n",
       "      <td>72</td>\n",
       "      <td>0</td>\n",
       "    </tr>\n",
       "    <tr>\n",
       "      <th>Fish</th>\n",
       "      <td>3</td>\n",
       "      <td>0</td>\n",
       "      <td>116</td>\n",
       "      <td>4</td>\n",
       "      <td>4</td>\n",
       "    </tr>\n",
       "    <tr>\n",
       "      <th>Mammal</th>\n",
       "      <td>7</td>\n",
       "      <td>1</td>\n",
       "      <td>176</td>\n",
       "      <td>28</td>\n",
       "      <td>2</td>\n",
       "    </tr>\n",
       "    <tr>\n",
       "      <th>Nonvascular Plant</th>\n",
       "      <td>0</td>\n",
       "      <td>0</td>\n",
       "      <td>328</td>\n",
       "      <td>5</td>\n",
       "      <td>0</td>\n",
       "    </tr>\n",
       "    <tr>\n",
       "      <th>Reptile</th>\n",
       "      <td>0</td>\n",
       "      <td>0</td>\n",
       "      <td>74</td>\n",
       "      <td>5</td>\n",
       "      <td>0</td>\n",
       "    </tr>\n",
       "    <tr>\n",
       "      <th>Vascular Plant</th>\n",
       "      <td>1</td>\n",
       "      <td>0</td>\n",
       "      <td>4424</td>\n",
       "      <td>43</td>\n",
       "      <td>2</td>\n",
       "    </tr>\n",
       "  </tbody>\n",
       "</table>\n",
       "</div>"
      ],
      "text/plain": [
       "conservation_status  Endangered  In Recovery  Not Specified  \\\n",
       "category                                                      \n",
       "Amphibian                     1            0             73   \n",
       "Bird                          4            3            442   \n",
       "Fish                          3            0            116   \n",
       "Mammal                        7            1            176   \n",
       "Nonvascular Plant             0            0            328   \n",
       "Reptile                       0            0             74   \n",
       "Vascular Plant                1            0           4424   \n",
       "\n",
       "conservation_status  Species of Concern  Threatened  \n",
       "category                                             \n",
       "Amphibian                             4           2  \n",
       "Bird                                 72           0  \n",
       "Fish                                  4           4  \n",
       "Mammal                               28           2  \n",
       "Nonvascular Plant                     5           0  \n",
       "Reptile                               5           0  \n",
       "Vascular Plant                       43           2  "
      ]
     },
     "metadata": {},
     "output_type": "display_data"
    },
    {
     "name": "stdout",
     "output_type": "stream",
     "text": [
      "The p-value for a chi-square test conducted on this contingency table is 2.4551423165990194e-117.\n",
      "This suggests a strong association between category and conservation status (signficance threshold: p=0.05)\n"
     ]
    }
   ],
   "source": [
    "#Create contingency tables, perform a chi-square test, and interpret the results\n",
    "category_conservation = pd.crosstab(species_df['category'], species_df['conservation_status'])\n",
    "print('Category vs. Conservation Status Contingency Table')\n",
    "display(category_conservation)\n",
    "chi2, p, dof, expected = chi2_contingency(category_conservation)\n",
    "print('The p-value for a chi-square test conducted on this contingency table is '+str(p)+'.\\nThis suggests a strong association between category and conservation status (signficance threshold: p=0.05)')"
   ]
  },
  {
   "cell_type": "code",
   "execution_count": 140,
   "metadata": {},
   "outputs": [
    {
     "name": "stdout",
     "output_type": "stream",
     "text": [
      "The #1 most frequently observed species at Great Smoky Mountains National Park is Sonchus asper ssp. asper\n",
      "Its other names are: Spiny Sowthistle\n",
      "It is a Vascular Plant with a conservation status of Not Specified\n",
      "It has been observed at this park 147 times.\n",
      "\n",
      "\n",
      "The #2 most frequently observed species at Great Smoky Mountains National Park is Lespedeza violacea\n",
      "Its other names are: Violet Bush-Clover\n",
      "It is a Vascular Plant with a conservation status of Not Specified\n",
      "It has been observed at this park 146 times.\n",
      "\n",
      "\n",
      "The #3 most frequently observed species at Great Smoky Mountains National Park is Botrychium dissectum\n",
      "Its other names are: Cutleaf Grape-Fern, Cut-Leaved Grape Fern\n",
      "It is a Vascular Plant with a conservation status of Not Specified\n",
      "It has been observed at this park 144 times.\n",
      "\n",
      "\n",
      "The #1 rarest species at Bryce National Park is Corydalis aurea\n",
      "Its other names are: Golden Corydalis, Scrambled Eggs\n",
      "It is a Vascular Plant with a conservation status of Not Specified\n",
      "It has been observed at this park 9 times.\n",
      "\n",
      "\n",
      "The #2 rarest species at Bryce National Park is Vermivora bachmanii\n",
      "Its other names are: Bachman's Warbler, Bachman's Wood Warbler\n",
      "It is a Bird with a conservation status of Endangered\n",
      "It has been observed at this park 20 times.\n",
      "\n",
      "\n",
      "The #3 rarest species at Bryce National Park is Ovis canadensis sierrae\n",
      "Its other names are: Sierra Nevada Bighorn Sheep\n",
      "It is a Mammal with a conservation status of Endangered\n",
      "It has been observed at this park 22 times.\n",
      "\n",
      "\n",
      "The #4 rarest species at Bryce National Park is Noturus baileyi\n",
      "Its other names are: Smoky Madtom\n",
      "It is a Fish with a conservation status of Endangered\n",
      "It has been observed at this park 22 times.\n",
      "\n",
      "\n"
     ]
    }
   ],
   "source": [
    "#What are the n most observed species for a given park?\n",
    "def n_most_observed(park, n):\n",
    "    park_values = observations_df[observations_df['park_name']==park]\n",
    "    park_sorted = park_values.sort_values(\"observations\", ascending=False).reset_index()\n",
    "    park_merged = park_sorted.merge(species_df, how='inner', on='scientific_name')\n",
    "    for i in range(n):\n",
    "        print('The #'+str(i+1)+' most frequently observed species at '+park+' is '+park_merged['scientific_name'][i])\n",
    "        print('Its other names are: '+park_merged['common_names'][i])\n",
    "        print('It is a '+park_merged['category'][i]+' with a conservation status of '+park_merged['conservation_status'][i])\n",
    "        print('It has been observed at this park '+str(park_merged['observations'][i])+' times.')\n",
    "        print('\\n')\n",
    "        \n",
    "#What are the n rarest species in a given park?\n",
    "def n_least_observed(park, n):\n",
    "    park_values = observations_df[observations_df['park_name']==park]\n",
    "    park_sorted = park_values.sort_values(\"observations\", ascending=False).reset_index()\n",
    "    park_merged = park_sorted.merge(species_df, how='inner', on='scientific_name')\n",
    "    for i in range(n):\n",
    "        print('The #'+str(i+1)+' rarest species at '+park+' is '+park_merged['scientific_name'][len(park_merged)-(i+1)])\n",
    "        print('Its other names are: '+park_merged['common_names'][len(park_merged)-(i+1)])\n",
    "        print('It is a '+park_merged['category'][len(park_merged)-(i+1)]+' with a conservation status of '+park_merged['conservation_status'][len(park_merged)-(i+1)])\n",
    "        print('It has been observed at this park '+str(park_merged['observations'][len(park_merged)-(i+1)])+' times.')\n",
    "        print('\\n')\n",
    "        \n",
    "n_most_observed('Great Smoky Mountains National Park', 3) #describe the 3 most common species in Smoky Mts. National Park\n",
    "n_least_observed('Bryce National Park', 4) #describe the 2 rarest species in Bryce National Park\n",
    "\n"
   ]
  }
 ],
 "metadata": {
  "kernelspec": {
   "display_name": "Python 3",
   "language": "python",
   "name": "python3"
  },
  "language_info": {
   "codemirror_mode": {
    "name": "ipython",
    "version": 3
   },
   "file_extension": ".py",
   "mimetype": "text/x-python",
   "name": "python",
   "nbconvert_exporter": "python",
   "pygments_lexer": "ipython3",
   "version": "3.8.8"
  }
 },
 "nbformat": 4,
 "nbformat_minor": 4
}
